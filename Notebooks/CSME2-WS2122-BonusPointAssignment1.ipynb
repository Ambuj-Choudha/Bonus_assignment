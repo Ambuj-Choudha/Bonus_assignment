{
 "cells": [
  {
   "cell_type": "markdown",
   "id": "bfd664c6",
   "metadata": {},
   "source": [
    "# CSME2 Bonus Point Assignment 1\n",
    "\n",
    "<div style=\"text-align: right;font-size: 0.8em\">Document Version 1.0.0, released 01/12/2021</div>\n",
    "For detailed task instructions, please refer to the assignment PDF.\n",
    "\n",
    "DO NOT CLEAR THE OUTPUT of the notebook you are submitting!"
   ]
  },
  {
   "cell_type": "code",
   "execution_count": 4,
   "id": "19109187",
   "metadata": {},
   "outputs": [],
   "source": [
    "# Add any additional import you need in this cell\n",
    "import numpy as np\n",
    "from sklearn.cluster import kmeans_plusplus, KMeans\n",
    "from scipy.io import loadmat\n",
    "np.random.seed(1234)"
   ]
  },
  {
   "cell_type": "markdown",
   "id": "4fa2e669",
   "metadata": {},
   "source": [
    "### Setup\n",
    "__Task A.1__ Load the data into the following numpy arrays. For the output, only use the first torque variable.\n",
    "Randomly split the data from the file ```sarcos_inv.mat``` into a training set (80%) and a validation set (20%)."
   ]
  },
  {
   "cell_type": "code",
   "execution_count": 11,
   "id": "0d5a8197",
   "metadata": {},
   "outputs": [
    {
     "ename": "SyntaxError",
     "evalue": "invalid syntax (3116975305.py, line 22)",
     "output_type": "error",
     "traceback": [
      "\u001b[0;36m  File \u001b[0;32m\"/tmp/ipykernel_429611/3116975305.py\"\u001b[0;36m, line \u001b[0;32m22\u001b[0m\n\u001b[0;31m    ys_valid = train_data[int(n*0.8):, 22].reshape((:,1))\u001b[0m\n\u001b[0m                                                    ^\u001b[0m\n\u001b[0;31mSyntaxError\u001b[0m\u001b[0;31m:\u001b[0m invalid syntax\n"
     ]
    }
   ],
   "source": [
    "# postion/velocity/acceleration  = 7 + 7 + 7 = 21\n",
    "# The last 7 columns reprensent the torche corresponding each joint\n",
    "\n",
    "train_data = loadmat(\"./sarcos_inv.mat\")[\"sarcos_inv\"]\n",
    "test_data = loadmat(\"./sarcos_inv_test.mat\")[\"sarcos_inv_test\"]\n",
    "\n",
    "# Shuffle data so that it can be random splitted\n",
    "np.random.seed(42) \n",
    "np.random.shuffle(train_data)\n",
    "np.random.shuffle(test_data)\n",
    "\n",
    "\n",
    "# Input and output training data\n",
    "\n",
    "# Split train_data as 80% training data and 20% validation data\n",
    "n = train_data.shape[0]\n",
    "xs_train = train_data[:int(n*0.8), :21]  \n",
    "ys_train = train_data[:int(n*0.8), 22]\n",
    "\n",
    "# Input and output validation data\n",
    "xs_valid = train_data[int(n*0.8):, :21]  \n",
    "ys_valid = train_data[int(n*0.8):, 22].reshape((:,1))\n",
    "\n",
    "# Input and output test data\n",
    "xs_test = test_data[:, :21]\n",
    "ys_test = test_data[:, 22]"
   ]
  },
  {
   "cell_type": "code",
   "execution_count": 6,
   "id": "35579fa1",
   "metadata": {},
   "outputs": [
    {
     "name": "stdout",
     "output_type": "stream",
     "text": [
      "(35587, 21)\n",
      "(35587,)\n",
      "(8897, 21)\n",
      "(8897,)\n",
      "(4449, 21)\n",
      "(4449,)\n"
     ]
    }
   ],
   "source": [
    "# Check for yourself \n",
    "# The following should lead to output \n",
    "# (44484, 21)\n",
    "# (44484, 1)\n",
    "# (8897, 21)\n",
    "# (8897, 1)\n",
    "# (4449, 21)\n",
    "# (4449, 1)\n",
    "\n",
    "print(xs_train.shape)\n",
    "print(ys_train.shape)\n",
    "print(xs_valid.shape)\n",
    "print(ys_valid.shape)\n",
    "print(xs_test.shape)\n",
    "print(ys_test.shape)"
   ]
  },
  {
   "cell_type": "markdown",
   "id": "525325f0",
   "metadata": {},
   "source": [
    "__Task A.2__ Standardize the data such that\n",
    "1. Training inputs have mean 0\n",
    "2. Each training input variable has variance 1\n",
    "3. The training outputs have mean 0\n",
    "4. Apply the same transformation to the validation and test data\n",
    "\n",
    "Implement this manually, i.e., do not use a ready scaler like the one provided by scikit-learn."
   ]
  },
  {
   "cell_type": "code",
   "execution_count": null,
   "id": "d537fa8f",
   "metadata": {},
   "outputs": [],
   "source": [
    "# Store the standardized data in the following variables\n",
    "# xs_train_std = \n",
    "# ys_train_std = \n",
    "\n",
    "# xs_valid_std = \n",
    "# ys_valid_std = \n",
    "\n",
    "# xs_test_std = \n",
    "# ys_test_std = "
   ]
  },
  {
   "cell_type": "code",
   "execution_count": null,
   "id": "9ac3a72d",
   "metadata": {},
   "outputs": [],
   "source": [
    "# Check for yourself\n",
    "# The following should lead to (roughly) six zeros and three arrays with (approximately) ones\n",
    "#print(np.mean(xs_train_std))\n",
    "#print(np.mean(ys_train_std))\n",
    "#print(np.mean(xs_valid_std))\n",
    "#print(np.mean(ys_valid_std))\n",
    "#print(np.mean(xs_test_std))\n",
    "#print(np.mean(ys_test_std))\n",
    "\n",
    "#print(np.var(xs_train_std, axis=0))\n",
    "#print(np.var(xs_valid_std, axis=0))\n",
    "#print(np.var(xs_test_std, axis=0))"
   ]
  },
  {
   "cell_type": "markdown",
   "id": "a177f464",
   "metadata": {},
   "source": [
    "__Task A.3__"
   ]
  },
  {
   "cell_type": "code",
   "execution_count": null,
   "id": "e0764d98",
   "metadata": {},
   "outputs": [],
   "source": [
    "# Task A.3.a\n",
    "# Implement a function estimating the variance\n",
    "def my_variance(xs):\n",
    "    \"\"\"Calculate the empirical variance of a given vector of scalars\n",
    "    \n",
    "    Arguments\n",
    "    xs      1d numpy array\n",
    "    \n",
    "    Returns\n",
    "    The empirical variance of the provided vector\n",
    "    \"\"\"\n",
    "    # Your implementation\n",
    "    pass"
   ]
  },
  {
   "cell_type": "code",
   "execution_count": null,
   "id": "786e8a34",
   "metadata": {},
   "outputs": [],
   "source": [
    "# Task A.3.b\n",
    "# Calculate the variance of ys_train_std using your function my_variance\n",
    "# var_ys_train = my_variance(ys_train_std)"
   ]
  },
  {
   "cell_type": "code",
   "execution_count": null,
   "id": "058d504f",
   "metadata": {},
   "outputs": [],
   "source": [
    "# Task A.3.c\n",
    "# Implement a function calculating the SMSE between two 1d numpy arrays given a normalizing factor\n",
    "def my_smse(z1, z2, s):\n",
    "    \"\"\"Calculate the Standardized Mean Squared Error (SMSE)\n",
    "    \n",
    "    Arguments\n",
    "    z1      1d numpy array (usually the predictions)\n",
    "    z2      1d numpy array (usually the test data)\n",
    "    s       Normalization factor (usually the variance of the test data)\n",
    "    \n",
    "    Returns\n",
    "    The SMSE of the provided data\n",
    "    \"\"\"\n",
    "    # Your implementation\n",
    "    pass"
   ]
  },
  {
   "cell_type": "markdown",
   "id": "ffc2441a",
   "metadata": {},
   "source": [
    "## Linear regression\n",
    "### Simple linear regression\n",
    "__Task A.4__"
   ]
  },
  {
   "cell_type": "code",
   "execution_count": null,
   "id": "7b99a849",
   "metadata": {},
   "outputs": [],
   "source": [
    "# This variable should contain the weights corresponding to simple linear regression (LS criterion, no bias term)\n",
    "# w_lr = \n",
    "\n",
    "# This variable should contain the predictions using w_lr on the test data\n",
    "# ys_pred_valid = \n",
    "\n",
    "# This should contain the resulting smse\n",
    "# smse_lr = my_smse(ys_pred_test, ys_valid_std, var_ys_train)"
   ]
  },
  {
   "cell_type": "markdown",
   "id": "0a46725f",
   "metadata": {},
   "source": [
    "### Linear regression with polynomial features\n",
    "__Task A.5__"
   ]
  },
  {
   "cell_type": "code",
   "execution_count": null,
   "id": "744f47c2",
   "metadata": {},
   "outputs": [],
   "source": [
    "# Task A.5.a\n",
    "def my_poly_features(xs, degree):\n",
    "    \"\"\"Generates polynomial features from given data\n",
    "    \n",
    "    The polynomial features should include monomials (i.e., x_i, x_i**2 etc)\n",
    "    and interaction terms (x_1*x_2 etc), but no repetitions.\n",
    "    The order of the samples should not be changed through the transformation.\n",
    "    \n",
    "    Arguments\n",
    "    xs      2d numpy array of shape (N,D) containing N samples of dimension D\n",
    "    degree  Maximum degree of polynomials to be considered\n",
    "    \n",
    "    Returns\n",
    "    An (N,M) numpy array containing the transformed input\n",
    "    \"\"\"\n",
    "    # Your implementation\n",
    "    pass"
   ]
  },
  {
   "cell_type": "code",
   "execution_count": null,
   "id": "fab21598",
   "metadata": {},
   "outputs": [],
   "source": [
    "# Tasks A.5.b\n",
    "# This variable should contain the weights corresponding to linear regression using polynomial features up to degree 2 and 3\n",
    "# w_poly2 =\n",
    "# w_poly3\n",
    "\n",
    "# This variable should contain the predictions using w_poly2 and w_poly3 on the validation data\n",
    "# ys_pred_poly2_valid = \n",
    "# ys_pred_poly3_valid = \n",
    "\n",
    "# This should contain the resulting smse\n",
    "# smse_poly2 = my_smse(ys_pred_poly2_valid, ys_valid_std, var_ys_train)\n",
    "# smse_poly3 = my_smse(ys_pred_poly3_valid, ys_valid_std, var_ys_train)"
   ]
  },
  {
   "cell_type": "markdown",
   "id": "d83775fe",
   "metadata": {},
   "source": [
    "## Clustering\n",
    "__Task B.1__ Implement the basic $K$-Means algorithm."
   ]
  },
  {
   "cell_type": "code",
   "execution_count": null,
   "id": "d83d4540",
   "metadata": {},
   "outputs": [],
   "source": [
    "def my_kmeans(xs, init_centers, n_iter):\n",
    "    \"\"\"Runs the K-Means algorithm from a given initialization\n",
    "    \n",
    "    Arguments\n",
    "    xs            2d numpy array of shape (N,D) containing N samples of dimension D\n",
    "    init_centers  2d numpy array of shape (K,D) containing the initial cluster centers\n",
    "    n_iter        Number of iterations of the K-Means algorithm\n",
    "    \n",
    "    Returns\n",
    "    An (K,D) numpy array containing the final cluster centers\n",
    "    \"\"\"\n",
    "    # Your implementation\n",
    "    pass"
   ]
  },
  {
   "cell_type": "markdown",
   "id": "efed21f3",
   "metadata": {},
   "source": [
    "__Task B.2__ Generate test data set and plot it."
   ]
  },
  {
   "cell_type": "code",
   "execution_count": null,
   "id": "aed74086",
   "metadata": {},
   "outputs": [],
   "source": [
    "# Test data of shape (100,2)\n",
    "# xs_cluster_test = "
   ]
  },
  {
   "cell_type": "markdown",
   "id": "63f46e6b",
   "metadata": {},
   "source": [
    "__Task B.3__ Run your $K$-Means algorithm on the test data for $K=2,3,4,5$ clusters and plot the final cluster centers."
   ]
  },
  {
   "cell_type": "code",
   "execution_count": null,
   "id": "8d957140",
   "metadata": {},
   "outputs": [],
   "source": [
    "# Use kmeans_plusplus(xs_cluster_test, K, random_state=0) for initialization"
   ]
  },
  {
   "cell_type": "markdown",
   "id": "a608862d",
   "metadata": {},
   "source": [
    "## Radial Basis Function Network\n",
    "__Task C.1__ Find $K=100$ cluster centers using $K$-Means."
   ]
  },
  {
   "cell_type": "code",
   "execution_count": null,
   "id": "99834856",
   "metadata": {},
   "outputs": [],
   "source": [
    "# This 100x21 numpy array should contain the cluster centers\n",
    "# xs_centers = "
   ]
  },
  {
   "cell_type": "markdown",
   "id": "08e0f1cd",
   "metadata": {},
   "source": [
    "__Task C.2__ Implement the Gaussian basis functions and transform the data accordingly"
   ]
  },
  {
   "cell_type": "code",
   "execution_count": null,
   "id": "210e115f",
   "metadata": {},
   "outputs": [],
   "source": [
    "# xs_train_gauss = "
   ]
  },
  {
   "cell_type": "markdown",
   "id": "e9be94fb",
   "metadata": {},
   "source": [
    "__Task C.3__ Run simple linear regression on the transformed data and evaluate it on the test set"
   ]
  },
  {
   "cell_type": "code",
   "execution_count": null,
   "id": "60c87032",
   "metadata": {},
   "outputs": [],
   "source": [
    "# This should contain the resulting predictions on the validation data set\n",
    "# ys_pred_gauss_valid = \n",
    "\n",
    "# This should contain the corresponding SMSE\n",
    "# smse_gauss = "
   ]
  },
  {
   "cell_type": "markdown",
   "id": "264e8a91",
   "metadata": {},
   "source": [
    "__Open task__ Can you improve the performance of the RBF network?"
   ]
  },
  {
   "cell_type": "markdown",
   "id": "41a547a9",
   "metadata": {},
   "source": [
    "__Task C.4__ Evaluate your final model (either the one from Task C.3 or your improved model from the open task) on the test data"
   ]
  },
  {
   "cell_type": "code",
   "execution_count": null,
   "id": "52044a03",
   "metadata": {},
   "outputs": [],
   "source": [
    "# This should contain the predictions on the test data set\n",
    "# ys_pred_test = \n",
    "\n",
    "# This should contain the resulting SMSE on the test data\n",
    "# smse_test = "
   ]
  }
 ],
 "metadata": {
  "kernelspec": {
   "display_name": "Python 3 (ipykernel)",
   "language": "python",
   "name": "python3"
  },
  "language_info": {
   "codemirror_mode": {
    "name": "ipython",
    "version": 3
   },
   "file_extension": ".py",
   "mimetype": "text/x-python",
   "name": "python",
   "nbconvert_exporter": "python",
   "pygments_lexer": "ipython3",
   "version": "3.7.12"
  }
 },
 "nbformat": 4,
 "nbformat_minor": 5
}
